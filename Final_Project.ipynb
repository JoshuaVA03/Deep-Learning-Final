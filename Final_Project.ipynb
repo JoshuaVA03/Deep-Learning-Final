{
  "nbformat": 4,
  "nbformat_minor": 0,
  "metadata": {
    "colab": {
      "provenance": []
    },
    "kernelspec": {
      "name": "python3",
      "display_name": "Python 3"
    },
    "language_info": {
      "name": "python"
    }
  },
  "cells": [
    {
      "cell_type": "markdown",
      "source": [
        "## Obtaining the Dataset"
      ],
      "metadata": {
        "id": "mQBqcnif5j0B"
      }
    },
    {
      "cell_type": "code",
      "source": [
        "import torch\n",
        "import torchvision\n",
        "from torchvision import transforms, datasets\n",
        "import torch.nn as nn\n",
        "import torch.nn.functional as F\n",
        "import torch.optim as optim\n",
        "\n",
        "# Setting the angle of rotation\n",
        "angle = 180\n",
        "\n",
        "# Setting the seed\n",
        "torch.manual_seed(83)\n",
        "\n",
        "train = torchvision.datasets.MNIST('', train=True, download=True,transform=transforms.Compose([transforms.ToTensor(),transforms.RandomRotation(angle)]))\n",
        "test = torchvision.datasets.MNIST('', train=False, download=True,transform=transforms.Compose([transforms.ToTensor(),transforms.RandomRotation(angle)]))\n",
        "trainset = torch.utils.data.DataLoader(train, batch_size=10, shuffle=True)\n",
        "testset = torch.utils.data.DataLoader(test, batch_size=10, shuffle=False)\n"
      ],
      "metadata": {
        "colab": {
          "base_uri": "https://localhost:8080/"
        },
        "id": "fOMS3WMgux0R",
        "outputId": "4c3b0e2f-adb1-4758-9e79-74a885dd32d6"
      },
      "execution_count": null,
      "outputs": [
        {
          "output_type": "stream",
          "name": "stdout",
          "text": [
            "Downloading http://yann.lecun.com/exdb/mnist/train-images-idx3-ubyte.gz\n",
            "Downloading http://yann.lecun.com/exdb/mnist/train-images-idx3-ubyte.gz to MNIST/raw/train-images-idx3-ubyte.gz\n"
          ]
        },
        {
          "output_type": "stream",
          "name": "stderr",
          "text": [
            "100%|██████████| 9912422/9912422 [00:00<00:00, 84154374.32it/s]"
          ]
        },
        {
          "output_type": "stream",
          "name": "stdout",
          "text": [
            "Extracting MNIST/raw/train-images-idx3-ubyte.gz to MNIST/raw\n"
          ]
        },
        {
          "output_type": "stream",
          "name": "stderr",
          "text": [
            "\n"
          ]
        },
        {
          "output_type": "stream",
          "name": "stdout",
          "text": [
            "\n",
            "Downloading http://yann.lecun.com/exdb/mnist/train-labels-idx1-ubyte.gz\n",
            "Downloading http://yann.lecun.com/exdb/mnist/train-labels-idx1-ubyte.gz to MNIST/raw/train-labels-idx1-ubyte.gz\n"
          ]
        },
        {
          "output_type": "stream",
          "name": "stderr",
          "text": [
            "100%|██████████| 28881/28881 [00:00<00:00, 34335514.12it/s]"
          ]
        },
        {
          "output_type": "stream",
          "name": "stdout",
          "text": [
            "Extracting MNIST/raw/train-labels-idx1-ubyte.gz to MNIST/raw\n",
            "\n",
            "Downloading http://yann.lecun.com/exdb/mnist/t10k-images-idx3-ubyte.gz\n"
          ]
        },
        {
          "output_type": "stream",
          "name": "stderr",
          "text": [
            "\n"
          ]
        },
        {
          "output_type": "stream",
          "name": "stdout",
          "text": [
            "Downloading http://yann.lecun.com/exdb/mnist/t10k-images-idx3-ubyte.gz to MNIST/raw/t10k-images-idx3-ubyte.gz\n"
          ]
        },
        {
          "output_type": "stream",
          "name": "stderr",
          "text": [
            "100%|██████████| 1648877/1648877 [00:00<00:00, 21090307.32it/s]"
          ]
        },
        {
          "output_type": "stream",
          "name": "stdout",
          "text": [
            "Extracting MNIST/raw/t10k-images-idx3-ubyte.gz to MNIST/raw\n",
            "\n",
            "Downloading http://yann.lecun.com/exdb/mnist/t10k-labels-idx1-ubyte.gz\n"
          ]
        },
        {
          "output_type": "stream",
          "name": "stderr",
          "text": [
            "\n"
          ]
        },
        {
          "output_type": "stream",
          "name": "stdout",
          "text": [
            "Downloading http://yann.lecun.com/exdb/mnist/t10k-labels-idx1-ubyte.gz to MNIST/raw/t10k-labels-idx1-ubyte.gz\n"
          ]
        },
        {
          "output_type": "stream",
          "name": "stderr",
          "text": [
            "100%|██████████| 4542/4542 [00:00<00:00, 15576883.70it/s]"
          ]
        },
        {
          "output_type": "stream",
          "name": "stdout",
          "text": [
            "Extracting MNIST/raw/t10k-labels-idx1-ubyte.gz to MNIST/raw\n",
            "\n"
          ]
        },
        {
          "output_type": "stream",
          "name": "stderr",
          "text": [
            "\n"
          ]
        }
      ]
    },
    {
      "cell_type": "markdown",
      "source": [
        "Visuializing the dataset"
      ],
      "metadata": {
        "id": "GY4cD_4rTJjp"
      }
    },
    {
      "cell_type": "code",
      "source": [
        "import matplotlib.pyplot as plt\n",
        "\n",
        "# Get a batch of images from the training set\n",
        "images, labels = next(iter(trainset))\n",
        "\n",
        "# Plot the images\n",
        "fig, axs = plt.subplots(1, 10, figsize=(15, 5))\n",
        "for i in range(10):\n",
        "    axs[i].imshow(images[i].squeeze(), cmap='gray')\n",
        "    axs[i].set_title(f'Label: {labels[i]}')\n",
        "plt.show()"
      ],
      "metadata": {
        "colab": {
          "base_uri": "https://localhost:8080/",
          "height": 181
        },
        "id": "BRCMl2gCRYdC",
        "outputId": "371fdc64-42ef-453a-fd23-3f481658a865"
      },
      "execution_count": null,
      "outputs": [
        {
          "output_type": "display_data",
          "data": {
            "text/plain": [
              "<Figure size 1500x500 with 10 Axes>"
            ],
            "image/png": "[encoded data removed]"
          },
          "metadata": {}
        }
      ]
    },
    {
      "cell_type": "markdown",
      "source": [
        "Here we can see that the images are rotated randomly from -180 to 180 degrees"
      ],
      "metadata": {
        "id": "sc58jMjbfi9F"
      }
    },
    {
      "cell_type": "markdown",
      "source": [
        "## Building the Network"
      ],
      "metadata": {
        "id": "w50sUFz95mMV"
      }
    },
    {
      "cell_type": "code",
      "source": [
        "class Net(nn.Module):\n",
        "    def __init__(self):\n",
        "        super(Net, self).__init__() \n",
        "        self.conv1 = nn.Conv2d(in_channels=1, out_channels=6, kernel_size=5, stride=1)\n",
        "        self.conv2 = nn.Conv2d(in_channels=6, out_channels=16, kernel_size=5, stride=1)\n",
        "        self.pool  = nn.AvgPool2d(kernel_size=2)\n",
        "        self.fc1 = nn.Linear(256, 128)\n",
        "        self.fc2 = nn.Linear(128, 64)\n",
        "        self.fc3 = nn.Linear(64, 10)\n",
        "\n",
        "    def forward(self, x):\n",
        "        y = self.conv1(x)\n",
        "        y = F.relu(y)\n",
        "        y = self.pool(y)\n",
        "        y = self.conv2(y)\n",
        "        y = F.relu(y)\n",
        "        y = self.pool(y)\n",
        "        y = y.view(y.shape[0], -1)\n",
        "        y = self.fc1(y)\n",
        "        y = F.relu(y)\n",
        "        y = self.fc2(y)\n",
        "        y = F.relu(y)\n",
        "        y = self.fc3(y)\n",
        "\n",
        "        return y\n",
        "\n",
        "            "
      ],
      "metadata": {
        "id": "zAuqM9_XnnLJ"
      },
      "execution_count": null,
      "outputs": []
    },
    {
      "cell_type": "code",
      "source": [
        "device = 'cuda' if torch.cuda.is_available() else 'cpu'\n",
        "net = Net().to(device)\n",
        "print(net)\n",
        "loss_criterion = nn.CrossEntropyLoss()\n",
        "optimizer = optim.SGD(net.parameters(), lr=0.01, momentum=0.9)"
      ],
      "metadata": {
        "colab": {
          "base_uri": "https://localhost:8080/"
        },
        "id": "4rKFQuG9noax",
        "outputId": "51c1cfd9-8f51-4ab8-b1f4-611330323ee8"
      },
      "execution_count": null,
      "outputs": [
        {
          "output_type": "stream",
          "name": "stdout",
          "text": [
            "Net(\n",
            "  (conv1): Conv2d(1, 6, kernel_size=(5, 5), stride=(1, 1))\n",
            "  (conv2): Conv2d(6, 16, kernel_size=(5, 5), stride=(1, 1))\n",
            "  (pool): AvgPool2d(kernel_size=2, stride=2, padding=0)\n",
            "  (fc1): Linear(in_features=256, out_features=128, bias=True)\n",
            "  (fc2): Linear(in_features=128, out_features=64, bias=True)\n",
            "  (fc3): Linear(in_features=64, out_features=10, bias=True)\n",
            ")\n"
          ]
        }
      ]
    },
    {
      "cell_type": "markdown",
      "source": [
        "Used the SGD optimizer"
      ],
      "metadata": {
        "id": "Z05KpRmpfufx"
      }
    },
    {
      "cell_type": "code",
      "source": [
        "yloss = []\n",
        "maxEpochs = 20\n",
        "\n",
        "for epoch in range(maxEpochs): \n",
        "    for data in trainset:  \n",
        "        X, y = data\n",
        "        X = X.to(device)\n",
        "        y = y.to(device) \n",
        "        net.zero_grad()  \n",
        "        output = net(X)  \n",
        "        loss = loss_criterion(output, y)\n",
        "\n",
        "        # Backpropergation \n",
        "        loss.backward()  \n",
        "        optimizer.step()  \n",
        "    yloss.append(loss.detach().numpy())\n",
        "    print(\"Epoch \", epoch+1,\": \",loss.detach().numpy()) "
      ],
      "metadata": {
        "colab": {
          "base_uri": "https://localhost:8080/"
        },
        "id": "Hf7X4LGgntRk",
        "outputId": "b29e804f-a616-4e42-e0e7-74e2915aa1a7"
      },
      "execution_count": null,
      "outputs": [
        {
          "output_type": "stream",
          "name": "stdout",
          "text": [
            "Epoch  0 :  0.18656227\n",
            "Epoch  1 :  0.037444416\n",
            "Epoch  2 :  0.043334723\n",
            "Epoch  3 :  0.01564204\n",
            "Epoch  4 :  0.97160566\n",
            "Epoch  5 :  0.07589187\n",
            "Epoch  6 :  0.12973654\n",
            "Epoch  7 :  0.011009684\n",
            "Epoch  8 :  0.62953913\n",
            "Epoch  9 :  0.2668561\n",
            "Epoch  10 :  0.08095348\n",
            "Epoch  11 :  0.19696659\n",
            "Epoch  12 :  0.09172824\n",
            "Epoch  13 :  0.0031413292\n",
            "Epoch  14 :  0.012876135\n",
            "Epoch  15 :  0.031661484\n",
            "Epoch  16 :  0.060831696\n",
            "Epoch  17 :  0.18009801\n",
            "Epoch  18 :  0.009076366\n",
            "Epoch  19 :  0.0745377\n"
          ]
        }
      ]
    },
    {
      "cell_type": "code",
      "source": [
        "xAxis = list(range(1,maxEpochs+1))\n",
        "fig, ax = plt.subplots()\n",
        "ax.plot(xAxis,yloss)\n",
        "ax.set(xlabel = \"Epoch #\", ylabel = \"Loss\", title = \"Loss over time of Epochs\")\n",
        "plt.show()"
      ],
      "metadata": {
        "colab": {
          "base_uri": "https://localhost:8080/",
          "height": 472
        },
        "id": "w8qvtKSGamkE",
        "outputId": "7c9f2d7c-8f49-4a4d-c9b5-a841319f5781"
      },
      "execution_count": null,
      "outputs": [
        {
          "output_type": "display_data",
          "data": {
            "text/plain": [
              "<Figure size 640x480 with 1 Axes>"
            ],
            "image/png": "[encoded data removed]"
          },
          "metadata": {}
        }
      ]
    },
    {
      "cell_type": "markdown",
      "source": [
        "## Testing the accuracy of the model"
      ],
      "metadata": {
        "id": "gMQ8T1Bz5uKr"
      }
    },
    {
      "cell_type": "code",
      "source": [
        "correct = 0\n",
        "total = 0\n",
        "\n",
        "with torch.no_grad():\n",
        "    for data in testset:\n",
        "        X, y = data\n",
        "        X = X.to(device)\n",
        "        y = y.to(device)\n",
        "        output = net(X)\n",
        "        \n",
        "        for idx, i in enumerate(output):\n",
        "          if torch.argmax(i) == y[idx]:\n",
        "            correct += 1\n",
        "          total += 1\n",
        "\n",
        "print(\"Accuracy: \", round(correct/total, 4))"
      ],
      "metadata": {
        "colab": {
          "base_uri": "https://localhost:8080/"
        },
        "id": "DFOyMLgkxc2L",
        "outputId": "aba203db-5909-4da0-e2e0-355764ad5659"
      },
      "execution_count": null,
      "outputs": [
        {
          "output_type": "stream",
          "name": "stdout",
          "text": [
            "Accuracy:  0.9603\n"
          ]
        }
      ]
    }
  ]
}